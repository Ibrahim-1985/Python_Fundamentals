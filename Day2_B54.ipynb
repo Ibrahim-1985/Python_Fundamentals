{
 "cells": [
  {
   "cell_type": "code",
   "execution_count": 2,
   "id": "b56ff240",
   "metadata": {},
   "outputs": [],
   "source": [
    "Introduction to variables in python:"
   ]
  },
  {
   "cell_type": "code",
   "execution_count": 8,
   "id": "9bd64381",
   "metadata": {},
   "outputs": [],
   "source": [
    "x = 7\n",
    "y = 5"
   ]
  },
  {
   "cell_type": "code",
   "execution_count": 9,
   "id": "2187cae2",
   "metadata": {},
   "outputs": [
    {
     "name": "stdout",
     "output_type": "stream",
     "text": [
      "12\n"
     ]
    }
   ],
   "source": [
    "z = x+y\n",
    "print(z)"
   ]
  },
  {
   "cell_type": "code",
   "execution_count": null,
   "id": "2252518e",
   "metadata": {},
   "outputs": [],
   "source": []
  },
  {
   "cell_type": "code",
   "execution_count": null,
   "id": "514f89bd",
   "metadata": {},
   "outputs": [],
   "source": [
    "Rules for declaring the variables in python:"
   ]
  },
  {
   "cell_type": "markdown",
   "id": "ad22a20a",
   "metadata": {},
   "source": [
    "1. No Name spaces while declaring the variable names"
   ]
  },
  {
   "cell_type": "code",
   "execution_count": null,
   "id": "33fffe5b",
   "metadata": {},
   "outputs": [],
   "source": []
  },
  {
   "cell_type": "code",
   "execution_count": 10,
   "id": "385b9e4f",
   "metadata": {},
   "outputs": [
    {
     "ename": "SyntaxError",
     "evalue": "invalid syntax (<ipython-input-10-2c65cf70718e>, line 1)",
     "output_type": "error",
     "traceback": [
      "\u001b[1;36m  File \u001b[1;32m\"<ipython-input-10-2c65cf70718e>\"\u001b[1;36m, line \u001b[1;32m1\u001b[0m\n\u001b[1;33m    first name = 'Faiyaz'\u001b[0m\n\u001b[1;37m          ^\u001b[0m\n\u001b[1;31mSyntaxError\u001b[0m\u001b[1;31m:\u001b[0m invalid syntax\n"
     ]
    }
   ],
   "source": [
    "first name = 'Faiyaz'\n",
    "print(first name)"
   ]
  },
  {
   "cell_type": "code",
   "execution_count": 11,
   "id": "b5a5a3a1",
   "metadata": {},
   "outputs": [
    {
     "name": "stdout",
     "output_type": "stream",
     "text": [
      "faiyaz\n"
     ]
    }
   ],
   "source": [
    "firstname='faiyaz'\n",
    "print(firstname)"
   ]
  },
  {
   "cell_type": "code",
   "execution_count": null,
   "id": "0b4ca226",
   "metadata": {},
   "outputs": [],
   "source": []
  },
  {
   "cell_type": "code",
   "execution_count": null,
   "id": "e898e9f5",
   "metadata": {},
   "outputs": [],
   "source": [
    "2. A variable name should not start with a Number."
   ]
  },
  {
   "cell_type": "code",
   "execution_count": 12,
   "id": "a0bf7b89",
   "metadata": {},
   "outputs": [
    {
     "ename": "SyntaxError",
     "evalue": "invalid syntax (<ipython-input-12-8c54e5cba2e2>, line 1)",
     "output_type": "error",
     "traceback": [
      "\u001b[1;36m  File \u001b[1;32m\"<ipython-input-12-8c54e5cba2e2>\"\u001b[1;36m, line \u001b[1;32m1\u001b[0m\n\u001b[1;33m    1name = 'kumar'\u001b[0m\n\u001b[1;37m     ^\u001b[0m\n\u001b[1;31mSyntaxError\u001b[0m\u001b[1;31m:\u001b[0m invalid syntax\n"
     ]
    }
   ],
   "source": [
    "1name = 'kumar'\n",
    "print(1name)"
   ]
  },
  {
   "cell_type": "code",
   "execution_count": 13,
   "id": "d04e527c",
   "metadata": {},
   "outputs": [
    {
     "name": "stdout",
     "output_type": "stream",
     "text": [
      "kumar\n"
     ]
    }
   ],
   "source": [
    "name1='kumar'\n",
    "print(name1)"
   ]
  },
  {
   "cell_type": "code",
   "execution_count": null,
   "id": "15f67d42",
   "metadata": {},
   "outputs": [],
   "source": []
  },
  {
   "cell_type": "code",
   "execution_count": null,
   "id": "bfad1846",
   "metadata": {},
   "outputs": [],
   "source": [
    "3. A variable name should not contain any special characters. @&*$"
   ]
  },
  {
   "cell_type": "code",
   "execution_count": 15,
   "id": "634ffa67",
   "metadata": {},
   "outputs": [
    {
     "ename": "SyntaxError",
     "evalue": "invalid syntax (<ipython-input-15-92755e60f917>, line 1)",
     "output_type": "error",
     "traceback": [
      "\u001b[1;36m  File \u001b[1;32m\"<ipython-input-15-92755e60f917>\"\u001b[1;36m, line \u001b[1;32m1\u001b[0m\n\u001b[1;33m    name@ = 'navya'\u001b[0m\n\u001b[1;37m          ^\u001b[0m\n\u001b[1;31mSyntaxError\u001b[0m\u001b[1;31m:\u001b[0m invalid syntax\n"
     ]
    }
   ],
   "source": [
    "name@ = 'navya'\n",
    "print(name@)"
   ]
  },
  {
   "cell_type": "code",
   "execution_count": null,
   "id": "f1215d34",
   "metadata": {},
   "outputs": [],
   "source": [
    "Introduction to datatypes in python: "
   ]
  },
  {
   "cell_type": "code",
   "execution_count": null,
   "id": "8c74b260",
   "metadata": {},
   "outputs": [],
   "source": [
    "1. String ==> str\n",
    "2. Numbers ==> integers ( int ) and floats ( decimals ) ==> float\n",
    "3. list ==> list\n",
    "4. tuple ==> tuple\n",
    "5. dictionaries ==> dict"
   ]
  },
  {
   "cell_type": "code",
   "execution_count": null,
   "id": "6ee4f4ed",
   "metadata": {},
   "outputs": [],
   "source": [
    "Note: Python is a case sensitive language"
   ]
  },
  {
   "cell_type": "code",
   "execution_count": null,
   "id": "4b5d0a0d",
   "metadata": {},
   "outputs": [],
   "source": []
  },
  {
   "cell_type": "code",
   "execution_count": null,
   "id": "0aab3766",
   "metadata": {},
   "outputs": [],
   "source": [
    "classification of data types:"
   ]
  },
  {
   "cell_type": "code",
   "execution_count": null,
   "id": "ad37ceb2",
   "metadata": {},
   "outputs": [],
   "source": [
    "data types are classified into 2 different categories:\n",
    "    1. mutable datatype ==> which we can edit or alter ==> flexible in nature\n",
    "    2. immutable datatype ==> which we cannot edit or alter ==> fixed in nature"
   ]
  },
  {
   "cell_type": "code",
   "execution_count": null,
   "id": "5658d483",
   "metadata": {},
   "outputs": [],
   "source": []
  },
  {
   "cell_type": "code",
   "execution_count": null,
   "id": "d94302ac",
   "metadata": {},
   "outputs": [],
   "source": [
    "introduction to string datatype:"
   ]
  },
  {
   "cell_type": "code",
   "execution_count": null,
   "id": "7ccdefe4",
   "metadata": {},
   "outputs": [],
   "source": [
    "definition: A string is a series of characters declared in quotes.\n",
    "classification: it is classified as an immutable datatype\n",
    "    \n",
    "how do you declare a string?\n",
    "3 possible approaches for declaring a string.\n",
    "1. single quote\n",
    "2. double quotes\n",
    "3. triple quotes"
   ]
  },
  {
   "cell_type": "code",
   "execution_count": 16,
   "id": "7625a8f4",
   "metadata": {},
   "outputs": [
    {
     "name": "stdout",
     "output_type": "stream",
     "text": [
      "ravi\n"
     ]
    }
   ],
   "source": [
    "name='ravi'  #single quote\n",
    "print(name)"
   ]
  },
  {
   "cell_type": "code",
   "execution_count": 18,
   "id": "72975f15",
   "metadata": {},
   "outputs": [
    {
     "name": "stdout",
     "output_type": "stream",
     "text": [
      "kalyan\n"
     ]
    }
   ],
   "source": [
    "name2=\"kalyan\"  #double quote\n",
    "print(name2)"
   ]
  },
  {
   "cell_type": "code",
   "execution_count": 19,
   "id": "1e56339d",
   "metadata": {},
   "outputs": [
    {
     "name": "stdout",
     "output_type": "stream",
     "text": [
      "keerthi\n"
     ]
    }
   ],
   "source": [
    "name3=\"\"\"keerthi\"\"\"  #triple quote\n",
    "print(name3)"
   ]
  },
  {
   "cell_type": "code",
   "execution_count": null,
   "id": "72ec3456",
   "metadata": {},
   "outputs": [],
   "source": [
    "#hash is used for commenting lines..."
   ]
  }
 ],
 "metadata": {
  "kernelspec": {
   "display_name": "Python 3",
   "language": "python",
   "name": "python3"
  },
  "language_info": {
   "codemirror_mode": {
    "name": "ipython",
    "version": 3
   },
   "file_extension": ".py",
   "mimetype": "text/x-python",
   "name": "python",
   "nbconvert_exporter": "python",
   "pygments_lexer": "ipython3",
   "version": "3.8.8"
  }
 },
 "nbformat": 4,
 "nbformat_minor": 5
}
